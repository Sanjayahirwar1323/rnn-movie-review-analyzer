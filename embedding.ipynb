{
 "cells": [
  {
   "cell_type": "code",
   "execution_count": 1,
   "metadata": {},
   "outputs": [],
   "source": [
    "from tensorflow.keras.preprocessing.text import one_hot"
   ]
  },
  {
   "cell_type": "code",
   "execution_count": 2,
   "metadata": {},
   "outputs": [],
   "source": [
    "### sentences\n",
    "sent=[  'the glass of milk',\n",
    "     'the glass of juice',\n",
    "     'the cup of tea',\n",
    "    'I am a good boy',\n",
    "     'I am a good developer',\n",
    "     'understand the meaning of words',\n",
    "     'your videos are good',]"
   ]
  },
  {
   "cell_type": "code",
   "execution_count": 3,
   "metadata": {},
   "outputs": [
    {
     "data": {
      "text/plain": [
       "['the glass of milk',\n",
       " 'the glass of juice',\n",
       " 'the cup of tea',\n",
       " 'I am a good boy',\n",
       " 'I am a good developer',\n",
       " 'understand the meaning of words',\n",
       " 'your videos are good']"
      ]
     },
     "execution_count": 3,
     "metadata": {},
     "output_type": "execute_result"
    }
   ],
   "source": [
    "sent"
   ]
  },
  {
   "cell_type": "code",
   "execution_count": 4,
   "metadata": {},
   "outputs": [],
   "source": [
    "## Define the vocabulary size\n",
    "voc_size=10000"
   ]
  },
  {
   "cell_type": "code",
   "execution_count": 5,
   "metadata": {},
   "outputs": [
    {
     "data": {
      "text/plain": [
       "['the glass of milk',\n",
       " 'the glass of juice',\n",
       " 'the cup of tea',\n",
       " 'I am a good boy',\n",
       " 'I am a good developer',\n",
       " 'understand the meaning of words',\n",
       " 'your videos are good']"
      ]
     },
     "execution_count": 5,
     "metadata": {},
     "output_type": "execute_result"
    }
   ],
   "source": [
    "sent"
   ]
  },
  {
   "cell_type": "code",
   "execution_count": 6,
   "metadata": {},
   "outputs": [
    {
     "data": {
      "text/plain": [
       "[[6609, 8463, 2300, 7127],\n",
       " [6609, 8463, 2300, 4544],\n",
       " [6609, 4987, 2300, 9414],\n",
       " [2171, 9455, 8535, 8480, 6446],\n",
       " [2171, 9455, 8535, 8480, 7413],\n",
       " [3405, 6609, 1642, 2300, 2072],\n",
       " [310, 8341, 7311, 8480]]"
      ]
     },
     "execution_count": 6,
     "metadata": {},
     "output_type": "execute_result"
    }
   ],
   "source": [
    "### One Hot Representation || Every word in the sentence is represented as a vector of size voc_size\n",
    "one_hot_repr=[one_hot(words,voc_size)for words in sent]\n",
    "one_hot_repr"
   ]
  },
  {
   "cell_type": "code",
   "execution_count": 7,
   "metadata": {},
   "outputs": [],
   "source": [
    "## word Embedding Representation\n",
    "\n",
    "from tensorflow.keras.layers import Embedding\n",
    "#from tensorflow.keras.processing.sequence import pad_sequences\n",
    "from tensorflow.keras.utils import pad_sequences\n",
    "from tensorflow.keras.models import Sequential"
   ]
  },
  {
   "cell_type": "code",
   "execution_count": 8,
   "metadata": {},
   "outputs": [],
   "source": [
    "import numpy as np"
   ]
  },
  {
   "cell_type": "code",
   "execution_count": 9,
   "metadata": {},
   "outputs": [
    {
     "name": "stdout",
     "output_type": "stream",
     "text": [
      "[[   0    0    0    0 6609 8463 2300 7127]\n",
      " [   0    0    0    0 6609 8463 2300 4544]\n",
      " [   0    0    0    0 6609 4987 2300 9414]\n",
      " [   0    0    0 2171 9455 8535 8480 6446]\n",
      " [   0    0    0 2171 9455 8535 8480 7413]\n",
      " [   0    0    0 3405 6609 1642 2300 2072]\n",
      " [   0    0    0    0  310 8341 7311 8480]]\n"
     ]
    }
   ],
   "source": [
    "sent_length=8 ## max length of the sentence\n",
    "embedded_docs=pad_sequences(one_hot_repr,padding='pre',maxlen=sent_length) ## padding='pre' means add 0s at the beginning of the sentence\n",
    "print(embedded_docs) "
   ]
  },
  {
   "cell_type": "code",
   "execution_count": 10,
   "metadata": {},
   "outputs": [],
   "source": [
    "## feature representation\n",
    "dim=10 ## dimension of the embedding vector"
   ]
  },
  {
   "cell_type": "code",
   "execution_count": 11,
   "metadata": {},
   "outputs": [
    {
     "name": "stderr",
     "output_type": "stream",
     "text": [
      "/Users/sanjayahirwar/Documents/THIS PC/CELL -Y/PROJECTS/SIMPLE_RNN/venv/lib/python3.12/site-packages/keras/src/layers/core/embedding.py:90: UserWarning: Argument `input_length` is deprecated. Just remove it.\n",
      "  warnings.warn(\n",
      "2025-04-04 18:13:09.583190: I metal_plugin/src/device/metal_device.cc:1154] Metal device set to: Apple M1\n",
      "2025-04-04 18:13:09.583324: I metal_plugin/src/device/metal_device.cc:296] systemMemory: 8.00 GB\n",
      "2025-04-04 18:13:09.583404: I metal_plugin/src/device/metal_device.cc:313] maxCacheSize: 2.67 GB\n",
      "2025-04-04 18:13:09.583690: I tensorflow/core/common_runtime/pluggable_device/pluggable_device_factory.cc:305] Could not identify NUMA node of platform GPU ID 0, defaulting to 0. Your kernel may not have been built with NUMA support.\n",
      "2025-04-04 18:13:09.583733: I tensorflow/core/common_runtime/pluggable_device/pluggable_device_factory.cc:271] Created TensorFlow device (/job:localhost/replica:0/task:0/device:GPU:0 with 0 MB memory) -> physical PluggableDevice (device: 0, name: METAL, pci bus id: <undefined>)\n"
     ]
    }
   ],
   "source": [
    "model=Sequential()## embedding layer is used to convert the one hot representation to word embedding representation\n",
    "model.add(Embedding(voc_size,dim,input_length=sent_length))\n",
    "model.compile('adam','mse')"
   ]
  },
  {
   "cell_type": "code",
   "execution_count": 12,
   "metadata": {},
   "outputs": [
    {
     "data": {
      "text/html": [
       "<pre style=\"white-space:pre;overflow-x:auto;line-height:normal;font-family:Menlo,'DejaVu Sans Mono',consolas,'Courier New',monospace\"><span style=\"font-weight: bold\">Model: \"sequential\"</span>\n",
       "</pre>\n"
      ],
      "text/plain": [
       "\u001b[1mModel: \"sequential\"\u001b[0m\n"
      ]
     },
     "metadata": {},
     "output_type": "display_data"
    },
    {
     "data": {
      "text/html": [
       "<pre style=\"white-space:pre;overflow-x:auto;line-height:normal;font-family:Menlo,'DejaVu Sans Mono',consolas,'Courier New',monospace\">┏━━━━━━━━━━━━━━━━━━━━━━━━━━━━━━━━━┳━━━━━━━━━━━━━━━━━━━━━━━━┳━━━━━━━━━━━━━━━┓\n",
       "┃<span style=\"font-weight: bold\"> Layer (type)                    </span>┃<span style=\"font-weight: bold\"> Output Shape           </span>┃<span style=\"font-weight: bold\">       Param # </span>┃\n",
       "┡━━━━━━━━━━━━━━━━━━━━━━━━━━━━━━━━━╇━━━━━━━━━━━━━━━━━━━━━━━━╇━━━━━━━━━━━━━━━┩\n",
       "│ embedding (<span style=\"color: #0087ff; text-decoration-color: #0087ff\">Embedding</span>)           │ ?                      │   <span style=\"color: #00af00; text-decoration-color: #00af00\">0</span> (unbuilt) │\n",
       "└─────────────────────────────────┴────────────────────────┴───────────────┘\n",
       "</pre>\n"
      ],
      "text/plain": [
       "┏━━━━━━━━━━━━━━━━━━━━━━━━━━━━━━━━━┳━━━━━━━━━━━━━━━━━━━━━━━━┳━━━━━━━━━━━━━━━┓\n",
       "┃\u001b[1m \u001b[0m\u001b[1mLayer (type)                   \u001b[0m\u001b[1m \u001b[0m┃\u001b[1m \u001b[0m\u001b[1mOutput Shape          \u001b[0m\u001b[1m \u001b[0m┃\u001b[1m \u001b[0m\u001b[1m      Param #\u001b[0m\u001b[1m \u001b[0m┃\n",
       "┡━━━━━━━━━━━━━━━━━━━━━━━━━━━━━━━━━╇━━━━━━━━━━━━━━━━━━━━━━━━╇━━━━━━━━━━━━━━━┩\n",
       "│ embedding (\u001b[38;5;33mEmbedding\u001b[0m)           │ ?                      │   \u001b[38;5;34m0\u001b[0m (unbuilt) │\n",
       "└─────────────────────────────────┴────────────────────────┴───────────────┘\n"
      ]
     },
     "metadata": {},
     "output_type": "display_data"
    },
    {
     "data": {
      "text/html": [
       "<pre style=\"white-space:pre;overflow-x:auto;line-height:normal;font-family:Menlo,'DejaVu Sans Mono',consolas,'Courier New',monospace\"><span style=\"font-weight: bold\"> Total params: </span><span style=\"color: #00af00; text-decoration-color: #00af00\">0</span> (0.00 B)\n",
       "</pre>\n"
      ],
      "text/plain": [
       "\u001b[1m Total params: \u001b[0m\u001b[38;5;34m0\u001b[0m (0.00 B)\n"
      ]
     },
     "metadata": {},
     "output_type": "display_data"
    },
    {
     "data": {
      "text/html": [
       "<pre style=\"white-space:pre;overflow-x:auto;line-height:normal;font-family:Menlo,'DejaVu Sans Mono',consolas,'Courier New',monospace\"><span style=\"font-weight: bold\"> Trainable params: </span><span style=\"color: #00af00; text-decoration-color: #00af00\">0</span> (0.00 B)\n",
       "</pre>\n"
      ],
      "text/plain": [
       "\u001b[1m Trainable params: \u001b[0m\u001b[38;5;34m0\u001b[0m (0.00 B)\n"
      ]
     },
     "metadata": {},
     "output_type": "display_data"
    },
    {
     "data": {
      "text/html": [
       "<pre style=\"white-space:pre;overflow-x:auto;line-height:normal;font-family:Menlo,'DejaVu Sans Mono',consolas,'Courier New',monospace\"><span style=\"font-weight: bold\"> Non-trainable params: </span><span style=\"color: #00af00; text-decoration-color: #00af00\">0</span> (0.00 B)\n",
       "</pre>\n"
      ],
      "text/plain": [
       "\u001b[1m Non-trainable params: \u001b[0m\u001b[38;5;34m0\u001b[0m (0.00 B)\n"
      ]
     },
     "metadata": {},
     "output_type": "display_data"
    }
   ],
   "source": [
    "model.summary()"
   ]
  },
  {
   "cell_type": "code",
   "execution_count": 13,
   "metadata": {},
   "outputs": [
    {
     "name": "stdout",
     "output_type": "stream",
     "text": [
      "\u001b[1m1/1\u001b[0m \u001b[32m━━━━━━━━━━━━━━━━━━━━\u001b[0m\u001b[37m\u001b[0m \u001b[1m0s\u001b[0m 390ms/step"
     ]
    },
    {
     "name": "stderr",
     "output_type": "stream",
     "text": [
      "2025-04-04 18:13:10.382635: I tensorflow/core/grappler/optimizers/custom_graph_optimizer_registry.cc:117] Plugin optimizer for device_type GPU is enabled.\n"
     ]
    },
    {
     "name": "stdout",
     "output_type": "stream",
     "text": [
      "\u001b[1m1/1\u001b[0m \u001b[32m━━━━━━━━━━━━━━━━━━━━\u001b[0m\u001b[37m\u001b[0m \u001b[1m0s\u001b[0m 425ms/step\n"
     ]
    },
    {
     "data": {
      "text/plain": [
       "array([[[ 1.98680647e-02,  3.21417190e-02,  3.67486961e-02,\n",
       "          3.95571105e-02,  4.00328077e-02, -3.64329666e-03,\n",
       "          2.67087333e-02, -3.12277563e-02,  2.38300674e-02,\n",
       "         -3.79986987e-02],\n",
       "        [ 1.98680647e-02,  3.21417190e-02,  3.67486961e-02,\n",
       "          3.95571105e-02,  4.00328077e-02, -3.64329666e-03,\n",
       "          2.67087333e-02, -3.12277563e-02,  2.38300674e-02,\n",
       "         -3.79986987e-02],\n",
       "        [ 1.98680647e-02,  3.21417190e-02,  3.67486961e-02,\n",
       "          3.95571105e-02,  4.00328077e-02, -3.64329666e-03,\n",
       "          2.67087333e-02, -3.12277563e-02,  2.38300674e-02,\n",
       "         -3.79986987e-02],\n",
       "        [ 1.98680647e-02,  3.21417190e-02,  3.67486961e-02,\n",
       "          3.95571105e-02,  4.00328077e-02, -3.64329666e-03,\n",
       "          2.67087333e-02, -3.12277563e-02,  2.38300674e-02,\n",
       "         -3.79986987e-02],\n",
       "        [-4.25399654e-02,  2.38326453e-02,  3.34240086e-02,\n",
       "         -4.21032310e-02, -2.34877113e-02, -3.56274471e-02,\n",
       "          3.80483009e-02, -3.41203958e-02,  2.79612206e-02,\n",
       "         -1.51349083e-02],\n",
       "        [-2.32759714e-02,  2.47450508e-02,  1.17390752e-02,\n",
       "         -2.50365380e-02, -3.06457523e-02,  2.04634666e-03,\n",
       "          1.79066546e-02, -2.33224034e-02,  3.85390781e-02,\n",
       "         -1.90561656e-02],\n",
       "        [ 1.78846009e-02,  1.64681114e-02,  3.50616015e-02,\n",
       "         -4.97209914e-02,  4.14089821e-02, -5.56082651e-03,\n",
       "          2.36910023e-02,  4.14611213e-02,  1.16011389e-02,\n",
       "          2.07817443e-02],\n",
       "        [ 2.45110504e-02,  2.26207115e-02, -1.04705580e-02,\n",
       "         -1.64020061e-03, -4.33729179e-02,  4.00917642e-02,\n",
       "          2.44044401e-02, -4.24088612e-02, -3.92674319e-02,\n",
       "         -1.00284107e-02]],\n",
       "\n",
       "       [[ 1.98680647e-02,  3.21417190e-02,  3.67486961e-02,\n",
       "          3.95571105e-02,  4.00328077e-02, -3.64329666e-03,\n",
       "          2.67087333e-02, -3.12277563e-02,  2.38300674e-02,\n",
       "         -3.79986987e-02],\n",
       "        [ 1.98680647e-02,  3.21417190e-02,  3.67486961e-02,\n",
       "          3.95571105e-02,  4.00328077e-02, -3.64329666e-03,\n",
       "          2.67087333e-02, -3.12277563e-02,  2.38300674e-02,\n",
       "         -3.79986987e-02],\n",
       "        [ 1.98680647e-02,  3.21417190e-02,  3.67486961e-02,\n",
       "          3.95571105e-02,  4.00328077e-02, -3.64329666e-03,\n",
       "          2.67087333e-02, -3.12277563e-02,  2.38300674e-02,\n",
       "         -3.79986987e-02],\n",
       "        [ 1.98680647e-02,  3.21417190e-02,  3.67486961e-02,\n",
       "          3.95571105e-02,  4.00328077e-02, -3.64329666e-03,\n",
       "          2.67087333e-02, -3.12277563e-02,  2.38300674e-02,\n",
       "         -3.79986987e-02],\n",
       "        [-4.25399654e-02,  2.38326453e-02,  3.34240086e-02,\n",
       "         -4.21032310e-02, -2.34877113e-02, -3.56274471e-02,\n",
       "          3.80483009e-02, -3.41203958e-02,  2.79612206e-02,\n",
       "         -1.51349083e-02],\n",
       "        [-2.32759714e-02,  2.47450508e-02,  1.17390752e-02,\n",
       "         -2.50365380e-02, -3.06457523e-02,  2.04634666e-03,\n",
       "          1.79066546e-02, -2.33224034e-02,  3.85390781e-02,\n",
       "         -1.90561656e-02],\n",
       "        [ 1.78846009e-02,  1.64681114e-02,  3.50616015e-02,\n",
       "         -4.97209914e-02,  4.14089821e-02, -5.56082651e-03,\n",
       "          2.36910023e-02,  4.14611213e-02,  1.16011389e-02,\n",
       "          2.07817443e-02],\n",
       "        [ 3.11606005e-03,  4.47761901e-02, -2.20660213e-02,\n",
       "          2.15879939e-02,  1.74106397e-02,  4.39295061e-02,\n",
       "         -1.28490441e-02, -1.69380307e-02, -9.48794186e-05,\n",
       "         -4.26579826e-02]],\n",
       "\n",
       "       [[ 1.98680647e-02,  3.21417190e-02,  3.67486961e-02,\n",
       "          3.95571105e-02,  4.00328077e-02, -3.64329666e-03,\n",
       "          2.67087333e-02, -3.12277563e-02,  2.38300674e-02,\n",
       "         -3.79986987e-02],\n",
       "        [ 1.98680647e-02,  3.21417190e-02,  3.67486961e-02,\n",
       "          3.95571105e-02,  4.00328077e-02, -3.64329666e-03,\n",
       "          2.67087333e-02, -3.12277563e-02,  2.38300674e-02,\n",
       "         -3.79986987e-02],\n",
       "        [ 1.98680647e-02,  3.21417190e-02,  3.67486961e-02,\n",
       "          3.95571105e-02,  4.00328077e-02, -3.64329666e-03,\n",
       "          2.67087333e-02, -3.12277563e-02,  2.38300674e-02,\n",
       "         -3.79986987e-02],\n",
       "        [ 1.98680647e-02,  3.21417190e-02,  3.67486961e-02,\n",
       "          3.95571105e-02,  4.00328077e-02, -3.64329666e-03,\n",
       "          2.67087333e-02, -3.12277563e-02,  2.38300674e-02,\n",
       "         -3.79986987e-02],\n",
       "        [-4.25399654e-02,  2.38326453e-02,  3.34240086e-02,\n",
       "         -4.21032310e-02, -2.34877113e-02, -3.56274471e-02,\n",
       "          3.80483009e-02, -3.41203958e-02,  2.79612206e-02,\n",
       "         -1.51349083e-02],\n",
       "        [-6.10812753e-03, -4.58756685e-02,  3.90884914e-02,\n",
       "         -5.72399050e-03, -4.67453375e-02, -2.05549598e-02,\n",
       "          3.67531925e-03, -1.98507793e-02, -4.80149873e-02,\n",
       "          4.68911566e-02],\n",
       "        [ 1.78846009e-02,  1.64681114e-02,  3.50616015e-02,\n",
       "         -4.97209914e-02,  4.14089821e-02, -5.56082651e-03,\n",
       "          2.36910023e-02,  4.14611213e-02,  1.16011389e-02,\n",
       "          2.07817443e-02],\n",
       "        [ 2.54654549e-02, -4.75503914e-02, -2.27940213e-02,\n",
       "         -1.93084478e-02,  4.95068915e-02, -1.02046505e-02,\n",
       "          3.53192352e-02, -2.61967257e-03, -3.05007938e-02,\n",
       "         -3.55991833e-02]],\n",
       "\n",
       "       [[ 1.98680647e-02,  3.21417190e-02,  3.67486961e-02,\n",
       "          3.95571105e-02,  4.00328077e-02, -3.64329666e-03,\n",
       "          2.67087333e-02, -3.12277563e-02,  2.38300674e-02,\n",
       "         -3.79986987e-02],\n",
       "        [ 1.98680647e-02,  3.21417190e-02,  3.67486961e-02,\n",
       "          3.95571105e-02,  4.00328077e-02, -3.64329666e-03,\n",
       "          2.67087333e-02, -3.12277563e-02,  2.38300674e-02,\n",
       "         -3.79986987e-02],\n",
       "        [ 1.98680647e-02,  3.21417190e-02,  3.67486961e-02,\n",
       "          3.95571105e-02,  4.00328077e-02, -3.64329666e-03,\n",
       "          2.67087333e-02, -3.12277563e-02,  2.38300674e-02,\n",
       "         -3.79986987e-02],\n",
       "        [ 4.80980761e-02,  1.09059326e-02, -1.19100586e-02,\n",
       "         -1.62382014e-02,  1.24867558e-02,  1.83296204e-03,\n",
       "         -4.03772965e-02,  2.28353627e-02,  9.50841978e-03,\n",
       "          1.38463043e-02],\n",
       "        [-9.88782570e-03,  3.16065438e-02,  7.75529072e-03,\n",
       "          2.45420001e-02,  1.63720362e-02, -4.49274667e-02,\n",
       "          3.03552635e-02, -3.34152728e-02,  3.39382887e-03,\n",
       "         -7.21516460e-03],\n",
       "        [-1.60467252e-02,  2.57986672e-02, -2.53442172e-02,\n",
       "         -3.71531025e-02, -3.41259465e-02,  1.66342296e-02,\n",
       "          3.32541578e-02, -3.95645387e-02, -3.44896689e-02,\n",
       "          4.53105904e-02],\n",
       "        [ 4.05987017e-02,  3.34878676e-02, -4.89447005e-02,\n",
       "          1.81297101e-02, -1.50292739e-02,  4.45179008e-02,\n",
       "          3.29175927e-02,  2.12181099e-02, -3.86557803e-02,\n",
       "          4.28395607e-02],\n",
       "        [ 3.22023071e-02,  3.33850421e-02,  1.26924366e-03,\n",
       "          5.12454659e-03,  3.06011699e-02, -3.30716260e-02,\n",
       "          1.43236779e-02, -1.49191543e-03, -3.79709713e-02,\n",
       "         -2.81479955e-02]],\n",
       "\n",
       "       [[ 1.98680647e-02,  3.21417190e-02,  3.67486961e-02,\n",
       "          3.95571105e-02,  4.00328077e-02, -3.64329666e-03,\n",
       "          2.67087333e-02, -3.12277563e-02,  2.38300674e-02,\n",
       "         -3.79986987e-02],\n",
       "        [ 1.98680647e-02,  3.21417190e-02,  3.67486961e-02,\n",
       "          3.95571105e-02,  4.00328077e-02, -3.64329666e-03,\n",
       "          2.67087333e-02, -3.12277563e-02,  2.38300674e-02,\n",
       "         -3.79986987e-02],\n",
       "        [ 1.98680647e-02,  3.21417190e-02,  3.67486961e-02,\n",
       "          3.95571105e-02,  4.00328077e-02, -3.64329666e-03,\n",
       "          2.67087333e-02, -3.12277563e-02,  2.38300674e-02,\n",
       "         -3.79986987e-02],\n",
       "        [ 4.80980761e-02,  1.09059326e-02, -1.19100586e-02,\n",
       "         -1.62382014e-02,  1.24867558e-02,  1.83296204e-03,\n",
       "         -4.03772965e-02,  2.28353627e-02,  9.50841978e-03,\n",
       "          1.38463043e-02],\n",
       "        [-9.88782570e-03,  3.16065438e-02,  7.75529072e-03,\n",
       "          2.45420001e-02,  1.63720362e-02, -4.49274667e-02,\n",
       "          3.03552635e-02, -3.34152728e-02,  3.39382887e-03,\n",
       "         -7.21516460e-03],\n",
       "        [-1.60467252e-02,  2.57986672e-02, -2.53442172e-02,\n",
       "         -3.71531025e-02, -3.41259465e-02,  1.66342296e-02,\n",
       "          3.32541578e-02, -3.95645387e-02, -3.44896689e-02,\n",
       "          4.53105904e-02],\n",
       "        [ 4.05987017e-02,  3.34878676e-02, -4.89447005e-02,\n",
       "          1.81297101e-02, -1.50292739e-02,  4.45179008e-02,\n",
       "          3.29175927e-02,  2.12181099e-02, -3.86557803e-02,\n",
       "          4.28395607e-02],\n",
       "        [-2.57345438e-02,  1.57755949e-02,  3.72780487e-03,\n",
       "         -1.76365376e-02, -2.70105954e-02,  1.02391727e-02,\n",
       "          1.94204338e-02, -1.73673034e-05,  1.58246048e-02,\n",
       "         -2.20752843e-02]],\n",
       "\n",
       "       [[ 1.98680647e-02,  3.21417190e-02,  3.67486961e-02,\n",
       "          3.95571105e-02,  4.00328077e-02, -3.64329666e-03,\n",
       "          2.67087333e-02, -3.12277563e-02,  2.38300674e-02,\n",
       "         -3.79986987e-02],\n",
       "        [ 1.98680647e-02,  3.21417190e-02,  3.67486961e-02,\n",
       "          3.95571105e-02,  4.00328077e-02, -3.64329666e-03,\n",
       "          2.67087333e-02, -3.12277563e-02,  2.38300674e-02,\n",
       "         -3.79986987e-02],\n",
       "        [ 1.98680647e-02,  3.21417190e-02,  3.67486961e-02,\n",
       "          3.95571105e-02,  4.00328077e-02, -3.64329666e-03,\n",
       "          2.67087333e-02, -3.12277563e-02,  2.38300674e-02,\n",
       "         -3.79986987e-02],\n",
       "        [-2.96240095e-02, -1.03216395e-02, -1.14358291e-02,\n",
       "          7.33489916e-03, -4.92647067e-02, -1.72125176e-03,\n",
       "         -3.64874713e-02, -2.74883397e-02,  8.31257552e-04,\n",
       "          4.76088412e-02],\n",
       "        [-4.25399654e-02,  2.38326453e-02,  3.34240086e-02,\n",
       "         -4.21032310e-02, -2.34877113e-02, -3.56274471e-02,\n",
       "          3.80483009e-02, -3.41203958e-02,  2.79612206e-02,\n",
       "         -1.51349083e-02],\n",
       "        [ 2.58505344e-03, -3.15368660e-02, -4.35762182e-02,\n",
       "         -2.84843091e-02, -3.77289206e-03, -2.21306439e-02,\n",
       "          4.04375829e-02, -1.49078853e-02,  7.49816746e-03,\n",
       "          2.79069878e-02],\n",
       "        [ 1.78846009e-02,  1.64681114e-02,  3.50616015e-02,\n",
       "         -4.97209914e-02,  4.14089821e-02, -5.56082651e-03,\n",
       "          2.36910023e-02,  4.14611213e-02,  1.16011389e-02,\n",
       "          2.07817443e-02],\n",
       "        [ 2.50193216e-02, -8.00713897e-05,  4.70814966e-02,\n",
       "          4.64534201e-02, -4.51396964e-02, -1.36834159e-02,\n",
       "         -1.37378089e-02,  4.20276411e-02,  2.74005271e-02,\n",
       "          4.42762040e-02]],\n",
       "\n",
       "       [[ 1.98680647e-02,  3.21417190e-02,  3.67486961e-02,\n",
       "          3.95571105e-02,  4.00328077e-02, -3.64329666e-03,\n",
       "          2.67087333e-02, -3.12277563e-02,  2.38300674e-02,\n",
       "         -3.79986987e-02],\n",
       "        [ 1.98680647e-02,  3.21417190e-02,  3.67486961e-02,\n",
       "          3.95571105e-02,  4.00328077e-02, -3.64329666e-03,\n",
       "          2.67087333e-02, -3.12277563e-02,  2.38300674e-02,\n",
       "         -3.79986987e-02],\n",
       "        [ 1.98680647e-02,  3.21417190e-02,  3.67486961e-02,\n",
       "          3.95571105e-02,  4.00328077e-02, -3.64329666e-03,\n",
       "          2.67087333e-02, -3.12277563e-02,  2.38300674e-02,\n",
       "         -3.79986987e-02],\n",
       "        [ 1.98680647e-02,  3.21417190e-02,  3.67486961e-02,\n",
       "          3.95571105e-02,  4.00328077e-02, -3.64329666e-03,\n",
       "          2.67087333e-02, -3.12277563e-02,  2.38300674e-02,\n",
       "         -3.79986987e-02],\n",
       "        [ 4.14506681e-02,  4.86822166e-02, -2.95649525e-02,\n",
       "         -2.64298916e-02,  3.46743725e-02,  5.82113117e-03,\n",
       "         -3.77455354e-02,  4.80490215e-02,  3.56402136e-02,\n",
       "          1.92002393e-02],\n",
       "        [ 1.64341666e-02, -9.52489302e-03, -1.40920877e-02,\n",
       "         -3.69466655e-02, -4.00857702e-02, -3.99388298e-02,\n",
       "          2.31884383e-02, -1.12711191e-02, -3.50073464e-02,\n",
       "         -3.06546092e-02],\n",
       "        [ 4.68671322e-04, -3.63991968e-02, -5.57659939e-03,\n",
       "          1.11906528e-02,  2.64625587e-02,  2.83822529e-02,\n",
       "          4.77474593e-02, -7.06721470e-03,  4.61337008e-02,\n",
       "          1.74044706e-02],\n",
       "        [ 4.05987017e-02,  3.34878676e-02, -4.89447005e-02,\n",
       "          1.81297101e-02, -1.50292739e-02,  4.45179008e-02,\n",
       "          3.29175927e-02,  2.12181099e-02, -3.86557803e-02,\n",
       "          4.28395607e-02]]], dtype=float32)"
      ]
     },
     "execution_count": 13,
     "metadata": {},
     "output_type": "execute_result"
    }
   ],
   "source": [
    "model.predict(embedded_docs)"
   ]
  },
  {
   "cell_type": "code",
   "execution_count": 14,
   "metadata": {},
   "outputs": [
    {
     "data": {
      "text/plain": [
       "array([   0,    0,    0,    0, 6609, 8463, 2300, 7127], dtype=int32)"
      ]
     },
     "execution_count": 14,
     "metadata": {},
     "output_type": "execute_result"
    }
   ],
   "source": [
    "embedded_docs[0]"
   ]
  },
  {
   "cell_type": "code",
   "execution_count": 15,
   "metadata": {},
   "outputs": [
    {
     "name": "stdout",
     "output_type": "stream",
     "text": [
      "\u001b[1m1/1\u001b[0m \u001b[32m━━━━━━━━━━━━━━━━━━━━\u001b[0m\u001b[37m\u001b[0m \u001b[1m0s\u001b[0m 192ms/step\n"
     ]
    },
    {
     "data": {
      "text/plain": [
       "array([[[ 0.01986806,  0.03214172,  0.0367487 ,  0.03955711,\n",
       "          0.04003281, -0.0036433 ,  0.02670873, -0.03122776,\n",
       "          0.02383007, -0.0379987 ],\n",
       "        [ 0.01986806,  0.03214172,  0.0367487 ,  0.03955711,\n",
       "          0.04003281, -0.0036433 ,  0.02670873, -0.03122776,\n",
       "          0.02383007, -0.0379987 ],\n",
       "        [ 0.01986806,  0.03214172,  0.0367487 ,  0.03955711,\n",
       "          0.04003281, -0.0036433 ,  0.02670873, -0.03122776,\n",
       "          0.02383007, -0.0379987 ],\n",
       "        [ 0.01986806,  0.03214172,  0.0367487 ,  0.03955711,\n",
       "          0.04003281, -0.0036433 ,  0.02670873, -0.03122776,\n",
       "          0.02383007, -0.0379987 ],\n",
       "        [-0.04253997,  0.02383265,  0.03342401, -0.04210323,\n",
       "         -0.02348771, -0.03562745,  0.0380483 , -0.0341204 ,\n",
       "          0.02796122, -0.01513491],\n",
       "        [-0.02327597,  0.02474505,  0.01173908, -0.02503654,\n",
       "         -0.03064575,  0.00204635,  0.01790665, -0.0233224 ,\n",
       "          0.03853908, -0.01905617],\n",
       "        [ 0.0178846 ,  0.01646811,  0.0350616 , -0.04972099,\n",
       "          0.04140898, -0.00556083,  0.023691  ,  0.04146112,\n",
       "          0.01160114,  0.02078174],\n",
       "        [ 0.02451105,  0.02262071, -0.01047056, -0.0016402 ,\n",
       "         -0.04337292,  0.04009176,  0.02440444, -0.04240886,\n",
       "         -0.03926743, -0.01002841]]], dtype=float32)"
      ]
     },
     "execution_count": 15,
     "metadata": {},
     "output_type": "execute_result"
    }
   ],
   "source": [
    "import numpy as np\n",
    "\n",
    "model.predict(np.expand_dims(embedded_docs[0], axis=0))"
   ]
  },
  {
   "cell_type": "code",
   "execution_count": 16,
   "metadata": {},
   "outputs": [
    {
     "name": "stdout",
     "output_type": "stream",
     "text": [
      "Collecting keras==2.11.0\n",
      "  Using cached keras-2.11.0-py2.py3-none-any.whl.metadata (1.4 kB)\n",
      "\u001b[31mERROR: Could not find a version that satisfies the requirement tensorflow==2.11.0 (from versions: 2.16.0rc0, 2.16.1, 2.16.2, 2.17.0rc0, 2.17.0rc1, 2.17.0, 2.17.1, 2.18.0rc0, 2.18.0rc1, 2.18.0rc2, 2.18.0, 2.18.1, 2.19.0rc0, 2.19.0)\u001b[0m\u001b[31m\n",
      "\u001b[0m\u001b[31mERROR: No matching distribution found for tensorflow==2.11.0\u001b[0m\u001b[31m\n",
      "\u001b[0mNote: you may need to restart the kernel to use updated packages.\n"
     ]
    }
   ],
   "source": [
    "pip install keras==2.11.0 tensorflow==2.11.0"
   ]
  },
  {
   "cell_type": "code",
   "execution_count": 17,
   "metadata": {},
   "outputs": [],
   "source": [
    "#model.predict(embedded_docs[0])"
   ]
  },
  {
   "cell_type": "code",
   "execution_count": null,
   "metadata": {},
   "outputs": [],
   "source": []
  }
 ],
 "metadata": {
  "kernelspec": {
   "display_name": "venv",
   "language": "python",
   "name": "python3"
  },
  "language_info": {
   "codemirror_mode": {
    "name": "ipython",
    "version": 3
   },
   "file_extension": ".py",
   "mimetype": "text/x-python",
   "name": "python",
   "nbconvert_exporter": "python",
   "pygments_lexer": "ipython3",
   "version": "3.12.7"
  }
 },
 "nbformat": 4,
 "nbformat_minor": 2
}
